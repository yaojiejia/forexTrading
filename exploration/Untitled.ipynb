{
 "cells": [
  {
   "cell_type": "code",
   "execution_count": 2,
   "id": "c03bbe16",
   "metadata": {},
   "outputs": [],
   "source": [
    "import pandas as pd"
   ]
  },
  {
   "cell_type": "code",
   "execution_count": 3,
   "id": "4a6699de",
   "metadata": {},
   "outputs": [],
   "source": [
    "import datetime as dt"
   ]
  },
  {
   "cell_type": "code",
   "execution_count": 17,
   "id": "3065f344",
   "metadata": {},
   "outputs": [
    {
     "name": "stdout",
     "output_type": "stream",
     "text": [
      "1677792836.351341\n",
      "1677792836351\n"
     ]
    }
   ],
   "source": [
    "print(dt.datetime.now().timestamp())\n",
    "print(int(dt.datetime.now().timestamp()*1000))"
   ]
  },
  {
   "cell_type": "code",
   "execution_count": 20,
   "id": "1124f5d3",
   "metadata": {},
   "outputs": [
    {
     "name": "stdout",
     "output_type": "stream",
     "text": [
      "1677789381.171634\n",
      "1677789381172\n"
     ]
    }
   ],
   "source": [
    "print(dt.datetime.utcnow().timestamp())\n",
    "print(int(dt.datetime.utcnow().timestamp()*1000))"
   ]
  },
  {
   "cell_type": "code",
   "execution_count": 22,
   "id": "092d71f7",
   "metadata": {},
   "outputs": [
    {
     "name": "stdout",
     "output_type": "stream",
     "text": [
      "2023-03-02 21:35:00\n"
     ]
    }
   ],
   "source": [
    "print(dt.datetime.fromtimestamp(1677789300000/1000))"
   ]
  },
  {
   "cell_type": "code",
   "execution_count": 21,
   "id": "8e9cfa2a",
   "metadata": {},
   "outputs": [
    {
     "data": {
      "text/plain": [
       "Timestamp('2023-03-02 20:35:00')"
      ]
     },
     "execution_count": 21,
     "metadata": {},
     "output_type": "execute_result"
    }
   ],
   "source": [
    "pd.to_datetime(1677789300000, unit='ms')"
   ]
  },
  {
   "cell_type": "code",
   "execution_count": null,
   "id": "821fb34d",
   "metadata": {},
   "outputs": [],
   "source": []
  }
 ],
 "metadata": {
  "kernelspec": {
   "display_name": "Python 3 (ipykernel)",
   "language": "python",
   "name": "python3"
  },
  "language_info": {
   "codemirror_mode": {
    "name": "ipython",
    "version": 3
   },
   "file_extension": ".py",
   "mimetype": "text/x-python",
   "name": "python",
   "nbconvert_exporter": "python",
   "pygments_lexer": "ipython3",
   "version": "3.11.0"
  }
 },
 "nbformat": 4,
 "nbformat_minor": 5
}
