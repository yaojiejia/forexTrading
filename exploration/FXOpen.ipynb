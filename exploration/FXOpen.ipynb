{
 "cells": [
  {
   "cell_type": "code",
   "execution_count": null,
   "id": "fbbb03b8",
   "metadata": {},
   "outputs": [],
   "source": [
    "import pandas as pd\n",
    "import requests\n",
    "import datetime as dt\n",
    "from dateutil import parser\n",
    "import pytz\n",
    "import json"
   ]
  },
  {
   "cell_type": "code",
   "execution_count": null,
   "id": "82a27fe1",
   "metadata": {},
   "outputs": [],
   "source": [
    "OPENFX_URL = \"https://marginalttdemowebapi.fxopen.net:8443/api/v2\"\n",
    "\n",
    "API_ID = \"xx\"\n",
    "API_KEY = \"xx\"\n",
    "API_SECRET = \"xx\"\n",
    "\n",
    "SECURE_HEADER = {\n",
    "    \"Authorization\": f\"Basic {API_ID}:{API_KEY}:{API_SECRET}\",\n",
    "    \"Content-Type\": \"application/json\",\n",
    "    \"Accept\": \"application/json\",\n",
    "}"
   ]
  },
  {
   "cell_type": "code",
   "execution_count": null,
   "id": "c078831b",
   "metadata": {},
   "outputs": [],
   "source": [
    "session = requests.Session()\n",
    "session.headers.update(SECURE_HEADER)"
   ]
  },
  {
   "cell_type": "code",
   "execution_count": null,
   "id": "28b23817",
   "metadata": {},
   "outputs": [],
   "source": [
    "full_url = lambda x: f\"{OPENFX_URL}/{x}\""
   ]
  },
  {
   "cell_type": "code",
   "execution_count": null,
   "id": "3bbffc5e",
   "metadata": {},
   "outputs": [],
   "source": []
  },
  {
   "cell_type": "markdown",
   "id": "166e3ebd",
   "metadata": {},
   "source": [
    "## Account Details"
   ]
  },
  {
   "cell_type": "code",
   "execution_count": null,
   "id": "3a07d710",
   "metadata": {},
   "outputs": [],
   "source": [
    "resp = session.get(full_url('account'))"
   ]
  },
  {
   "cell_type": "code",
   "execution_count": null,
   "id": "4ea7fd2c",
   "metadata": {},
   "outputs": [],
   "source": []
  },
  {
   "cell_type": "code",
   "execution_count": null,
   "id": "a258ac57",
   "metadata": {},
   "outputs": [],
   "source": [
    "resp.status_code"
   ]
  },
  {
   "cell_type": "code",
   "execution_count": null,
   "id": "a004b92f",
   "metadata": {},
   "outputs": [],
   "source": [
    "#print(json.dumps(resp.json(), indent=2))"
   ]
  },
  {
   "cell_type": "code",
   "execution_count": null,
   "id": "55f8650b",
   "metadata": {},
   "outputs": [],
   "source": []
  },
  {
   "cell_type": "markdown",
   "id": "0f366b21",
   "metadata": {},
   "source": [
    "## Symbols (Instruments)"
   ]
  },
  {
   "cell_type": "code",
   "execution_count": null,
   "id": "f7215e0e",
   "metadata": {},
   "outputs": [],
   "source": [
    "# first get all of the symbols\n",
    "resp = session.get(full_url('symbol'))\n",
    "symbol_data = resp.json()\n",
    "\n",
    "# print first 2, note the StatusGroupId==\"Forex\"\n",
    "[print(json.dumps(x, indent=2)) for x in symbol_data[:2]]\n",
    "\n",
    "# also we only want symbols where we can also load history data. For that there is the quotehistory/symbols\n",
    "resp = session.get(full_url('quotehistory/symbols'))\n",
    "his_symbol_data = resp.json()\n",
    "\n",
    "print(his_symbol_data[:5])\n",
    "\n",
    "# you can probaby see, some of the instruments are appended with \"_L\"\n",
    "# in the API code we will filter for symbols that are in the symbol_data and are in his_symbol_data and do not have this L and have StatusGroupId==\"Forex\""
   ]
  },
  {
   "cell_type": "code",
   "execution_count": null,
   "id": "d8eba732",
   "metadata": {},
   "outputs": [],
   "source": []
  },
  {
   "cell_type": "markdown",
   "id": "9d25c553",
   "metadata": {},
   "source": [
    "## Perdiodicities (Granularities)"
   ]
  },
  {
   "cell_type": "code",
   "execution_count": null,
   "id": "3a33f4e4",
   "metadata": {},
   "outputs": [],
   "source": [
    "# for a given instrument (symbol) we can get the available candle granularities\n",
    "resp = session.get(full_url('quotehistory/EURUSD/periodicities'))\n",
    "print(resp.json())"
   ]
  },
  {
   "cell_type": "code",
   "execution_count": null,
   "id": "572ea785",
   "metadata": {},
   "outputs": [],
   "source": []
  },
  {
   "cell_type": "markdown",
   "id": "31bd6a7d",
   "metadata": {},
   "source": [
    "## Candles\n",
    "\n",
    "Candles are a little bit different than Oanda. <br><br>\n",
    "The Good:\n",
    "- Prices are floats!!\n",
    "- Last available candle is in the response<br><br>\n",
    "\n",
    "The bad:\n",
    "- We have to make separate calls for ask and bid prices\n",
    "- We have to specify a from date no matter what. It has to be a timestamp in ms format without timezone.\n",
    "    - If the count we specify is negative it counts back from the date\n",
    "    - If the count we specify is postive it counts forward from the date\n",
    "- There is a 1000 candle limit per request"
   ]
  },
  {
   "cell_type": "code",
   "execution_count": null,
   "id": "22acf6d5",
   "metadata": {},
   "outputs": [],
   "source": [
    "test_date = dt.datetime.utcnow()\n",
    "past_date = parser.parse(\"2023-03-02T03:11:00\")\n",
    "print(\"test_date\", test_date)\n",
    "print(\"past_date\", past_date)\n",
    "\n",
    "test_date_ts = pd.Timestamp(test_date).timestamp()\n",
    "past_date_ts = pd.Timestamp(past_date).timestamp()\n",
    "print(\"test_date_ts\", test_date_ts)\n",
    "print(\"int(test_date_ts*1000)\", int(test_date_ts*1000))\n",
    "print(\"int(past_date_ts*1000)\", int(past_date_ts*1000))"
   ]
  },
  {
   "cell_type": "code",
   "execution_count": null,
   "id": "6495de35",
   "metadata": {},
   "outputs": [],
   "source": [
    "ts_conv = 1640995200000\n",
    "pd.to_datetime(ts_conv, unit='ms')"
   ]
  },
  {
   "cell_type": "code",
   "execution_count": null,
   "id": "e293e23c",
   "metadata": {},
   "outputs": [],
   "source": []
  },
  {
   "cell_type": "code",
   "execution_count": null,
   "id": "3c3875c3",
   "metadata": {},
   "outputs": [],
   "source": [
    "LABEL_MAP = {\n",
    "    'Open': 'o',\n",
    "    'High': 'h',\n",
    "    'Low': 'l',\n",
    "    'Close': 'c',\n",
    "}\n",
    "\n",
    "# normal params\n",
    "count = -10\n",
    "granularity = \"M15\"\n",
    "pair = \"EURUSD\"\n",
    "\n",
    "# how far do we need to go back to get our candles\n",
    "params = dict(\n",
    "    timestamp=int(pd.Timestamp(dt.datetime.utcnow()).timestamp() * 1000),\n",
    "    count=count\n",
    ")\n",
    "\n",
    "url = full_url(f'quotehistory/{pair}/{granularity}/bars/bid')\n",
    "bid_data = session.get(url, params=params).json()\n",
    "\n",
    "url = full_url(f'quotehistory/{pair}/{granularity}/bars/ask')\n",
    "ask_data = session.get(url, params=params).json()\n"
   ]
  },
  {
   "cell_type": "code",
   "execution_count": null,
   "id": "bd3d2152",
   "metadata": {},
   "outputs": [],
   "source": [
    "# bid_data and ask_data will contain (hopefully) a key called \"Bars\", with the candle data:\n",
    "bid_data[\"Bars\"][:2] # the first two"
   ]
  },
  {
   "cell_type": "code",
   "execution_count": null,
   "id": "47385d75",
   "metadata": {},
   "outputs": [],
   "source": [
    "# Now to convert them to a dataframe\n",
    "# main points: Timestamp to a datetime.\n",
    "# we'll need to make a DataFrame for ask, for bid, merge and calculate the mid"
   ]
  },
  {
   "cell_type": "code",
   "execution_count": null,
   "id": "a3536739",
   "metadata": {},
   "outputs": [],
   "source": [
    "# a little utility to take in a candle and return it as and object\n",
    "# for example, if we are working with bid prices\n",
    "# price_label='bid'\n",
    "# item= {'Volume': 1476, 'Close': 1.06064,  'Low': 1.06054,  'High': 1.06104,  'Open': 1.06081,  'Timestamp': 1677535200000}\n",
    "# the returned object is: { 'time': datetime, 'bid_c': 1.06064,  'bid_l': 1.06054,  'bid_h': 1.06104,  'bid_o': 1.06081 }\n",
    "def get_price_dict(price_label: str, item):\n",
    "        data = dict(time=pd.to_datetime(item['Timestamp'], unit='ms'))\n",
    "        for ohlc in LABEL_MAP.keys():\n",
    "            data[f\"{price_label}_{LABEL_MAP[ohlc]}\"]=item[ohlc]\n",
    "        return data"
   ]
  },
  {
   "cell_type": "code",
   "execution_count": null,
   "id": "499ef7e5",
   "metadata": {},
   "outputs": [],
   "source": [
    "# let's make the lists of objects\n",
    "AvailableTo = pd.to_datetime(bid_data['AvailableTo'], unit='ms')\n",
    "\n",
    "bids = [get_price_dict('bid', item) for item in bid_data[\"Bars\"]]\n",
    "asks = [get_price_dict('ask', item) for item in ask_data[\"Bars\"]]"
   ]
  },
  {
   "cell_type": "code",
   "execution_count": null,
   "id": "2aa95703",
   "metadata": {},
   "outputs": [],
   "source": [
    "# last 2\n",
    "bids[-2:]"
   ]
  },
  {
   "cell_type": "code",
   "execution_count": null,
   "id": "9136e2ff",
   "metadata": {},
   "outputs": [],
   "source": [
    "# now merge on time - the assumption here is we have the same time values for both. it would be weird if we didn't\n",
    "df_bid = pd.DataFrame.from_dict(bids)\n",
    "df_ask = pd.DataFrame.from_dict(asks)\n",
    "df_merged = pd.merge(left=df_bid, right=df_ask, on='time')    "
   ]
  },
  {
   "cell_type": "code",
   "execution_count": null,
   "id": "27bcf763",
   "metadata": {},
   "outputs": [],
   "source": [
    "df_merged"
   ]
  },
  {
   "cell_type": "code",
   "execution_count": null,
   "id": "4fe18579",
   "metadata": {},
   "outputs": [],
   "source": [
    "# FINALLY calcuate the mid, and we are done\n",
    "for i in ['_o', '_h', '_l', '_c']:\n",
    "    df_merged[f'mid{i}'] = (df_merged[f'ask{i}'] - df_merged[f'bid{i}']) / 2 + df_merged[f'bid{i}']"
   ]
  },
  {
   "cell_type": "code",
   "execution_count": null,
   "id": "681c12d2",
   "metadata": {},
   "outputs": [],
   "source": [
    "df_merged"
   ]
  },
  {
   "cell_type": "code",
   "execution_count": null,
   "id": "1084e463",
   "metadata": {},
   "outputs": [],
   "source": [
    "if count < 0 and df_merged.shape[0] > 0 and df_merged.iloc[-1].time == AvailableTo:\n",
    "    df_merged = df_merged[:-1]"
   ]
  },
  {
   "cell_type": "code",
   "execution_count": null,
   "id": "9529d2c3",
   "metadata": {},
   "outputs": [],
   "source": [
    "df_merged"
   ]
  },
  {
   "cell_type": "code",
   "execution_count": null,
   "id": "61948b9f",
   "metadata": {},
   "outputs": [],
   "source": [
    "# and breathe..."
   ]
  },
  {
   "cell_type": "code",
   "execution_count": null,
   "id": "c3376d7b",
   "metadata": {},
   "outputs": [],
   "source": []
  },
  {
   "cell_type": "markdown",
   "id": "c2e2e8b1",
   "metadata": {},
   "source": [
    "## Latest Prices"
   ]
  },
  {
   "cell_type": "code",
   "execution_count": null,
   "id": "dece58ce",
   "metadata": {},
   "outputs": [],
   "source": [
    "# here the endpoint needs space separated instruments rather than comma. Yes, in a URL that is a bit weird.\n",
    "instruments_list = [\"GBPJPY\", \"EURUSD\", \"EURNOK\"]\n",
    "url = full_url(f\"tick/{' '.join(instruments_list)}\")\n",
    "print(url)"
   ]
  },
  {
   "cell_type": "code",
   "execution_count": null,
   "id": "d0199794",
   "metadata": {},
   "outputs": [],
   "source": [
    "prices = session.get(url)\n",
    "price_data = prices.json()\n",
    "\n",
    "# you can see below that there are some differences to the Oanda Api in what comes back, imho this is a lot better\n",
    "price_data"
   ]
  },
  {
   "cell_type": "code",
   "execution_count": null,
   "id": "68f215dd",
   "metadata": {},
   "outputs": [],
   "source": []
  }
 ],
 "metadata": {
  "kernelspec": {
   "display_name": "Python 3 (ipykernel)",
   "language": "python",
   "name": "python3"
  },
  "language_info": {
   "codemirror_mode": {
    "name": "ipython",
    "version": 3
   },
   "file_extension": ".py",
   "mimetype": "text/x-python",
   "name": "python",
   "nbconvert_exporter": "python",
   "pygments_lexer": "ipython3",
   "version": "3.11.0"
  }
 },
 "nbformat": 4,
 "nbformat_minor": 5
}
